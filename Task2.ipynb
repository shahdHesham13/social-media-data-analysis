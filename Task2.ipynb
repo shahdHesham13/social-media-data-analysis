{
 "cells": [
  {
   "cell_type": "code",
   "execution_count": 1,
   "metadata": {},
   "outputs": [],
   "source": [
    "import pandas as pd\n",
    "import matplotlib.pyplot as plt"
   ]
  },
  {
   "cell_type": "code",
   "execution_count": 2,
   "metadata": {},
   "outputs": [],
   "source": [
    "data = pd.read_csv('social_media_data.csv')"
   ]
  },
  {
   "cell_type": "code",
   "execution_count": 3,
   "metadata": {},
   "outputs": [
    {
     "data": {
      "text/html": [
       "<div>\n",
       "<style scoped>\n",
       "    .dataframe tbody tr th:only-of-type {\n",
       "        vertical-align: middle;\n",
       "    }\n",
       "\n",
       "    .dataframe tbody tr th {\n",
       "        vertical-align: top;\n",
       "    }\n",
       "\n",
       "    .dataframe thead th {\n",
       "        text-align: right;\n",
       "    }\n",
       "</style>\n",
       "<table border=\"1\" class=\"dataframe\">\n",
       "  <thead>\n",
       "    <tr style=\"text-align: right;\">\n",
       "      <th></th>\n",
       "      <th>date</th>\n",
       "      <th>platform</th>\n",
       "      <th>post_type</th>\n",
       "      <th>likes</th>\n",
       "      <th>shares</th>\n",
       "      <th>comments</th>\n",
       "      <th>views</th>\n",
       "    </tr>\n",
       "  </thead>\n",
       "  <tbody>\n",
       "    <tr>\n",
       "      <th>0</th>\n",
       "      <td>2023-05-24</td>\n",
       "      <td>Twitter</td>\n",
       "      <td>image</td>\n",
       "      <td>868.0</td>\n",
       "      <td>238.0</td>\n",
       "      <td>352.0</td>\n",
       "      <td>8836.0</td>\n",
       "    </tr>\n",
       "    <tr>\n",
       "      <th>1</th>\n",
       "      <td>2023-02-23</td>\n",
       "      <td>Twitter</td>\n",
       "      <td>image</td>\n",
       "      <td>944.0</td>\n",
       "      <td>610.0</td>\n",
       "      <td>146.0</td>\n",
       "      <td>5554.0</td>\n",
       "    </tr>\n",
       "    <tr>\n",
       "      <th>2</th>\n",
       "      <td>2023-03-18</td>\n",
       "      <td>Instagram</td>\n",
       "      <td>image</td>\n",
       "      <td>1067.0</td>\n",
       "      <td>858.0</td>\n",
       "      <td>365.0</td>\n",
       "      <td>4018.0</td>\n",
       "    </tr>\n",
       "    <tr>\n",
       "      <th>3</th>\n",
       "      <td>2023-06-12</td>\n",
       "      <td>Twitter</td>\n",
       "      <td>text</td>\n",
       "      <td>780.0</td>\n",
       "      <td>427.0</td>\n",
       "      <td>100.0</td>\n",
       "      <td>6999.0</td>\n",
       "    </tr>\n",
       "    <tr>\n",
       "      <th>4</th>\n",
       "      <td>2023-02-03</td>\n",
       "      <td>Instagram</td>\n",
       "      <td>text</td>\n",
       "      <td>836.0</td>\n",
       "      <td>893.0</td>\n",
       "      <td>443.0</td>\n",
       "      <td>5802.0</td>\n",
       "    </tr>\n",
       "  </tbody>\n",
       "</table>\n",
       "</div>"
      ],
      "text/plain": [
       "         date   platform post_type   likes  shares  comments   views\n",
       "0  2023-05-24    Twitter     image   868.0   238.0     352.0  8836.0\n",
       "1  2023-02-23    Twitter     image   944.0   610.0     146.0  5554.0\n",
       "2  2023-03-18  Instagram     image  1067.0   858.0     365.0  4018.0\n",
       "3  2023-06-12    Twitter      text   780.0   427.0     100.0  6999.0\n",
       "4  2023-02-03  Instagram      text   836.0   893.0     443.0  5802.0"
      ]
     },
     "execution_count": 3,
     "metadata": {},
     "output_type": "execute_result"
    }
   ],
   "source": [
    "data.head()"
   ]
  },
  {
   "cell_type": "code",
   "execution_count": 5,
   "metadata": {},
   "outputs": [
    {
     "data": {
      "text/plain": [
       "date          object\n",
       "platform      object\n",
       "post_type     object\n",
       "likes        float64\n",
       "shares       float64\n",
       "comments     float64\n",
       "views        float64\n",
       "dtype: object"
      ]
     },
     "execution_count": 5,
     "metadata": {},
     "output_type": "execute_result"
    }
   ],
   "source": [
    "data.dtypes"
   ]
  },
  {
   "cell_type": "code",
   "execution_count": 6,
   "metadata": {},
   "outputs": [
    {
     "data": {
      "text/plain": [
       "(2000, 7)"
      ]
     },
     "execution_count": 6,
     "metadata": {},
     "output_type": "execute_result"
    }
   ],
   "source": [
    "data.shape"
   ]
  },
  {
   "cell_type": "code",
   "execution_count": 8,
   "metadata": {},
   "outputs": [
    {
     "name": "stdout",
     "output_type": "stream",
     "text": [
      "<class 'pandas.core.frame.DataFrame'>\n",
      "RangeIndex: 2000 entries, 0 to 1999\n",
      "Data columns (total 7 columns):\n",
      " #   Column     Non-Null Count  Dtype  \n",
      "---  ------     --------------  -----  \n",
      " 0   date       2000 non-null   object \n",
      " 1   platform   2000 non-null   object \n",
      " 2   post_type  2000 non-null   object \n",
      " 3   likes      1992 non-null   float64\n",
      " 4   shares     1992 non-null   float64\n",
      " 5   comments   1992 non-null   float64\n",
      " 6   views      1990 non-null   float64\n",
      "dtypes: float64(4), object(3)\n",
      "memory usage: 109.5+ KB\n"
     ]
    }
   ],
   "source": [
    "data.info()"
   ]
  },
  {
   "cell_type": "code",
   "execution_count": 11,
   "metadata": {},
   "outputs": [],
   "source": [
    "data = data.fillna(0)"
   ]
  },
  {
   "cell_type": "markdown",
   "metadata": {},
   "source": [
    "</br>\n",
    "\n",
    "## 1. What was the total number of likes, shares, comments, and views (for videos) over the year?"
   ]
  },
  {
   "cell_type": "code",
   "execution_count": 14,
   "metadata": {},
   "outputs": [
    {
     "data": {
      "text/html": [
       "<div>\n",
       "<style scoped>\n",
       "    .dataframe tbody tr th:only-of-type {\n",
       "        vertical-align: middle;\n",
       "    }\n",
       "\n",
       "    .dataframe tbody tr th {\n",
       "        vertical-align: top;\n",
       "    }\n",
       "\n",
       "    .dataframe thead th {\n",
       "        text-align: right;\n",
       "    }\n",
       "</style>\n",
       "<table border=\"1\" class=\"dataframe\">\n",
       "  <thead>\n",
       "    <tr style=\"text-align: right;\">\n",
       "      <th></th>\n",
       "      <th>likes</th>\n",
       "      <th>shares</th>\n",
       "      <th>comments</th>\n",
       "      <th>views</th>\n",
       "    </tr>\n",
       "    <tr>\n",
       "      <th>post_type</th>\n",
       "      <th></th>\n",
       "      <th></th>\n",
       "      <th></th>\n",
       "      <th></th>\n",
       "    </tr>\n",
       "  </thead>\n",
       "  <tbody>\n",
       "    <tr>\n",
       "      <th>image</th>\n",
       "      <td>928510.0</td>\n",
       "      <td>362233.0</td>\n",
       "      <td>225818.0</td>\n",
       "      <td>5037675.0</td>\n",
       "    </tr>\n",
       "    <tr>\n",
       "      <th>text</th>\n",
       "      <td>824592.0</td>\n",
       "      <td>317322.0</td>\n",
       "      <td>189292.0</td>\n",
       "      <td>4361595.0</td>\n",
       "    </tr>\n",
       "    <tr>\n",
       "      <th>video</th>\n",
       "      <td>816170.0</td>\n",
       "      <td>311040.0</td>\n",
       "      <td>194139.0</td>\n",
       "      <td>4464731.0</td>\n",
       "    </tr>\n",
       "  </tbody>\n",
       "</table>\n",
       "</div>"
      ],
      "text/plain": [
       "              likes    shares  comments      views\n",
       "post_type                                         \n",
       "image      928510.0  362233.0  225818.0  5037675.0\n",
       "text       824592.0  317322.0  189292.0  4361595.0\n",
       "video      816170.0  311040.0  194139.0  4464731.0"
      ]
     },
     "execution_count": 14,
     "metadata": {},
     "output_type": "execute_result"
    }
   ],
   "source": [
    "interact_post_type = data.groupby('post_type')[['likes', 'shares', 'comments','views']].sum()\n",
    "interact_post_type"
   ]
  },
  {
   "cell_type": "code",
   "execution_count": 26,
   "metadata": {},
   "outputs": [
    {
     "data": {
      "text/plain": [
       "likes        816170.0\n",
       "shares       311040.0\n",
       "comments     194139.0\n",
       "views       4464731.0\n",
       "dtype: float64"
      ]
     },
     "execution_count": 26,
     "metadata": {},
     "output_type": "execute_result"
    }
   ],
   "source": [
    "video_data = data[data['post_type'] == 'video']\n",
    "video_data = video_data[['likes', 'shares', 'comments', 'views']].sum()\n",
    "video_data"
   ]
  },
  {
   "cell_type": "code",
   "execution_count": 36,
   "metadata": {},
   "outputs": [
    {
     "data": {
      "image/png": "[encoded data removed]",
      "text/plain": [
       "<Figure size 640x480 with 1 Axes>"
      ]
     },
     "metadata": {},
     "output_type": "display_data"
    }
   ],
   "source": [
    "plt.pie(video_data, labels=video_data.index, autopct='%1.1f%%', startangle=100)\n",
    "plt.title('Total Likes, Shares, Comments, and Views for Videos')\n",
    "plt.show()"
   ]
  },
  {
   "cell_type": "markdown",
   "metadata": {},
   "source": [
    "</br>\n",
    "\n",
    "## 2. Which platform had the highest engagement?</br> \n",
    "(engagement = likes + shares + comments)"
   ]
  },
  {
   "cell_type": "code",
   "execution_count": 111,
   "metadata": {},
   "outputs": [
    {
     "data": {
      "text/html": [
       "<div>\n",
       "<style scoped>\n",
       "    .dataframe tbody tr th:only-of-type {\n",
       "        vertical-align: middle;\n",
       "    }\n",
       "\n",
       "    .dataframe tbody tr th {\n",
       "        vertical-align: top;\n",
       "    }\n",
       "\n",
       "    .dataframe thead th {\n",
       "        text-align: right;\n",
       "    }\n",
       "</style>\n",
       "<table border=\"1\" class=\"dataframe\">\n",
       "  <thead>\n",
       "    <tr style=\"text-align: right;\">\n",
       "      <th></th>\n",
       "      <th>likes</th>\n",
       "      <th>shares</th>\n",
       "      <th>comments</th>\n",
       "      <th>engagement</th>\n",
       "    </tr>\n",
       "    <tr>\n",
       "      <th>platform</th>\n",
       "      <th></th>\n",
       "      <th></th>\n",
       "      <th></th>\n",
       "      <th></th>\n",
       "    </tr>\n",
       "  </thead>\n",
       "  <tbody>\n",
       "    <tr>\n",
       "      <th>Facebook</th>\n",
       "      <td>807529.0</td>\n",
       "      <td>322766.0</td>\n",
       "      <td>196031.0</td>\n",
       "      <td>1326326.0</td>\n",
       "    </tr>\n",
       "    <tr>\n",
       "      <th>Instagram</th>\n",
       "      <td>882746.0</td>\n",
       "      <td>335229.0</td>\n",
       "      <td>202604.0</td>\n",
       "      <td>1420579.0</td>\n",
       "    </tr>\n",
       "    <tr>\n",
       "      <th>NonExistingPlatform</th>\n",
       "      <td>6901.0</td>\n",
       "      <td>3095.0</td>\n",
       "      <td>1713.0</td>\n",
       "      <td>11709.0</td>\n",
       "    </tr>\n",
       "    <tr>\n",
       "      <th>Twitter</th>\n",
       "      <td>872096.0</td>\n",
       "      <td>329505.0</td>\n",
       "      <td>208901.0</td>\n",
       "      <td>1410502.0</td>\n",
       "    </tr>\n",
       "  </tbody>\n",
       "</table>\n",
       "</div>"
      ],
      "text/plain": [
       "                        likes    shares  comments  engagement\n",
       "platform                                                     \n",
       "Facebook             807529.0  322766.0  196031.0   1326326.0\n",
       "Instagram            882746.0  335229.0  202604.0   1420579.0\n",
       "NonExistingPlatform    6901.0    3095.0    1713.0     11709.0\n",
       "Twitter              872096.0  329505.0  208901.0   1410502.0"
      ]
     },
     "execution_count": 111,
     "metadata": {},
     "output_type": "execute_result"
    }
   ],
   "source": [
    "data_eng = data.groupby('platform')[['likes','shares','comments']].sum()\n",
    "data_eng['engagement'] = data_eng[['likes','shares','comments']].sum(axis=1)\n",
    "data_eng"
   ]
  },
  {
   "cell_type": "code",
   "execution_count": 112,
   "metadata": {},
   "outputs": [
    {
     "data": {
      "text/plain": [
       "1420579.0"
      ]
     },
     "execution_count": 112,
     "metadata": {},
     "output_type": "execute_result"
    }
   ],
   "source": [
    "data_eng['engagement'].max()"
   ]
  },
  {
   "cell_type": "markdown",
   "metadata": {},
   "source": [
    "### ***Instagram*** has the highest engagement"
   ]
  },
  {
   "cell_type": "code",
   "execution_count": 135,
   "metadata": {},
   "outputs": [
    {
     "data": {
      "image/png": "[encoded data removed]",
      "text/plain": [
       "<Figure size 640x480 with 1 Axes>"
      ]
     },
     "metadata": {},
     "output_type": "display_data"
    }
   ],
   "source": [
    "data_eng.plot(kind='bar')\n",
    "plt.xlabel('Platform')\n",
    "plt.ylabel('Total Count')\n",
    "plt.title('Total Likes, Shares, Comments, and Engagements by Platform')\n",
    "plt.legend(loc=(0.5, 0.6))\n",
    "plt.xticks(rotation=0)\n",
    "plt.show()"
   ]
  },
  {
   "cell_type": "markdown",
   "metadata": {},
   "source": [
    "</br>\n",
    "\n",
    "## 3. What was the average number of likes, shares, comments, and views per post on each platform?"
   ]
  },
  {
   "cell_type": "code",
   "execution_count": 83,
   "metadata": {},
   "outputs": [
    {
     "data": {
      "text/html": [
       "<div>\n",
       "<style scoped>\n",
       "    .dataframe tbody tr th:only-of-type {\n",
       "        vertical-align: middle;\n",
       "    }\n",
       "\n",
       "    .dataframe tbody tr th {\n",
       "        vertical-align: top;\n",
       "    }\n",
       "\n",
       "    .dataframe thead th {\n",
       "        text-align: right;\n",
       "    }\n",
       "</style>\n",
       "<table border=\"1\" class=\"dataframe\">\n",
       "  <thead>\n",
       "    <tr style=\"text-align: right;\">\n",
       "      <th></th>\n",
       "      <th>likes</th>\n",
       "      <th>shares</th>\n",
       "      <th>comments</th>\n",
       "      <th>views</th>\n",
       "    </tr>\n",
       "    <tr>\n",
       "      <th>platform</th>\n",
       "      <th></th>\n",
       "      <th></th>\n",
       "      <th></th>\n",
       "      <th></th>\n",
       "    </tr>\n",
       "  </thead>\n",
       "  <tbody>\n",
       "    <tr>\n",
       "      <th>Facebook</th>\n",
       "      <td>1279.761</td>\n",
       "      <td>511.515</td>\n",
       "      <td>310.667</td>\n",
       "      <td>6939.965</td>\n",
       "    </tr>\n",
       "    <tr>\n",
       "      <th>Instagram</th>\n",
       "      <td>1301.985</td>\n",
       "      <td>494.438</td>\n",
       "      <td>298.826</td>\n",
       "      <td>6875.319</td>\n",
       "    </tr>\n",
       "    <tr>\n",
       "      <th>NonExistingPlatform</th>\n",
       "      <td>1150.167</td>\n",
       "      <td>515.833</td>\n",
       "      <td>285.500</td>\n",
       "      <td>6729.167</td>\n",
       "    </tr>\n",
       "    <tr>\n",
       "      <th>Twitter</th>\n",
       "      <td>1273.133</td>\n",
       "      <td>481.029</td>\n",
       "      <td>304.965</td>\n",
       "      <td>6982.543</td>\n",
       "    </tr>\n",
       "  </tbody>\n",
       "</table>\n",
       "</div>"
      ],
      "text/plain": [
       "                        likes   shares  comments     views\n",
       "platform                                                  \n",
       "Facebook             1279.761  511.515   310.667  6939.965\n",
       "Instagram            1301.985  494.438   298.826  6875.319\n",
       "NonExistingPlatform  1150.167  515.833   285.500  6729.167\n",
       "Twitter              1273.133  481.029   304.965  6982.543"
      ]
     },
     "execution_count": 83,
     "metadata": {},
     "output_type": "execute_result"
    }
   ],
   "source": [
    "data_avg = data.groupby('platform')[['likes','shares','comments','views']].mean().round(3)\n",
    "data_avg"
   ]
  },
  {
   "cell_type": "markdown",
   "metadata": {},
   "source": [
    "</br>\n",
    "\n",
    "## 4. What was the total number of each type of post (video, image, text) on each platform?"
   ]
  },
  {
   "cell_type": "code",
   "execution_count": 90,
   "metadata": {},
   "outputs": [
    {
     "data": {
      "text/html": [
       "<div>\n",
       "<style scoped>\n",
       "    .dataframe tbody tr th:only-of-type {\n",
       "        vertical-align: middle;\n",
       "    }\n",
       "\n",
       "    .dataframe tbody tr th {\n",
       "        vertical-align: top;\n",
       "    }\n",
       "\n",
       "    .dataframe thead th {\n",
       "        text-align: right;\n",
       "    }\n",
       "</style>\n",
       "<table border=\"1\" class=\"dataframe\">\n",
       "  <thead>\n",
       "    <tr style=\"text-align: right;\">\n",
       "      <th>post_type</th>\n",
       "      <th>image</th>\n",
       "      <th>text</th>\n",
       "      <th>video</th>\n",
       "    </tr>\n",
       "    <tr>\n",
       "      <th>platform</th>\n",
       "      <th></th>\n",
       "      <th></th>\n",
       "      <th></th>\n",
       "    </tr>\n",
       "  </thead>\n",
       "  <tbody>\n",
       "    <tr>\n",
       "      <th>Facebook</th>\n",
       "      <td>218</td>\n",
       "      <td>204</td>\n",
       "      <td>209</td>\n",
       "    </tr>\n",
       "    <tr>\n",
       "      <th>Instagram</th>\n",
       "      <td>267</td>\n",
       "      <td>203</td>\n",
       "      <td>208</td>\n",
       "    </tr>\n",
       "    <tr>\n",
       "      <th>NonExistingPlatform</th>\n",
       "      <td>1</td>\n",
       "      <td>3</td>\n",
       "      <td>2</td>\n",
       "    </tr>\n",
       "    <tr>\n",
       "      <th>Twitter</th>\n",
       "      <td>249</td>\n",
       "      <td>219</td>\n",
       "      <td>217</td>\n",
       "    </tr>\n",
       "  </tbody>\n",
       "</table>\n",
       "</div>"
      ],
      "text/plain": [
       "post_type            image  text  video\n",
       "platform                               \n",
       "Facebook               218   204    209\n",
       "Instagram              267   203    208\n",
       "NonExistingPlatform      1     3      2\n",
       "Twitter                249   219    217"
      ]
     },
     "execution_count": 90,
     "metadata": {},
     "output_type": "execute_result"
    }
   ],
   "source": [
    "post_counts = data.groupby(['platform', 'post_type']).size().unstack(fill_value=0)\n",
    "post_counts"
   ]
  },
  {
   "cell_type": "code",
   "execution_count": 141,
   "metadata": {},
   "outputs": [
    {
     "data": {
      "image/png": "[encoded data removed]",
      "text/plain": [
       "<Figure size 640x480 with 1 Axes>"
      ]
     },
     "metadata": {},
     "output_type": "display_data"
    }
   ],
   "source": [
    "post_counts.plot(kind='bar')\n",
    "plt.xlabel('Platform')\n",
    "plt.ylabel('Total Count')\n",
    "plt.title('Total Likes, Shares, Comments, and Sum of Engagements by Platform')\n",
    "plt.xticks(rotation=0)\n",
    "plt.legend(loc=(0.53, 0.7))\n",
    "plt.show()"
   ]
  },
  {
   "cell_type": "markdown",
   "metadata": {},
   "source": [
    "</br>\n",
    "\n",
    "## 5. Which type of post had the highest average engagement?"
   ]
  },
  {
   "cell_type": "code",
   "execution_count": 109,
   "metadata": {},
   "outputs": [
    {
     "data": {
      "text/html": [
       "<div>\n",
       "<style scoped>\n",
       "    .dataframe tbody tr th:only-of-type {\n",
       "        vertical-align: middle;\n",
       "    }\n",
       "\n",
       "    .dataframe tbody tr th {\n",
       "        vertical-align: top;\n",
       "    }\n",
       "\n",
       "    .dataframe thead th {\n",
       "        text-align: right;\n",
       "    }\n",
       "</style>\n",
       "<table border=\"1\" class=\"dataframe\">\n",
       "  <thead>\n",
       "    <tr style=\"text-align: right;\">\n",
       "      <th></th>\n",
       "      <th>likes</th>\n",
       "      <th>shares</th>\n",
       "      <th>comments</th>\n",
       "      <th>views</th>\n",
       "      <th>total Avg</th>\n",
       "    </tr>\n",
       "    <tr>\n",
       "      <th>post_type</th>\n",
       "      <th></th>\n",
       "      <th></th>\n",
       "      <th></th>\n",
       "      <th></th>\n",
       "      <th></th>\n",
       "    </tr>\n",
       "  </thead>\n",
       "  <tbody>\n",
       "    <tr>\n",
       "      <th>image</th>\n",
       "      <td>1263.279</td>\n",
       "      <td>492.834</td>\n",
       "      <td>307.235</td>\n",
       "      <td>6853.980</td>\n",
       "      <td>2229.332</td>\n",
       "    </tr>\n",
       "    <tr>\n",
       "      <th>text</th>\n",
       "      <td>1310.957</td>\n",
       "      <td>504.486</td>\n",
       "      <td>300.941</td>\n",
       "      <td>6934.173</td>\n",
       "      <td>2262.639</td>\n",
       "    </tr>\n",
       "    <tr>\n",
       "      <th>video</th>\n",
       "      <td>1283.286</td>\n",
       "      <td>489.057</td>\n",
       "      <td>305.250</td>\n",
       "      <td>7020.017</td>\n",
       "      <td>2274.402</td>\n",
       "    </tr>\n",
       "  </tbody>\n",
       "</table>\n",
       "</div>"
      ],
      "text/plain": [
       "              likes   shares  comments     views  total Avg\n",
       "post_type                                                  \n",
       "image      1263.279  492.834   307.235  6853.980   2229.332\n",
       "text       1310.957  504.486   300.941  6934.173   2262.639\n",
       "video      1283.286  489.057   305.250  7020.017   2274.402"
      ]
     },
     "execution_count": 109,
     "metadata": {},
     "output_type": "execute_result"
    }
   ],
   "source": [
    "post_eng = data.groupby('post_type')[['likes','shares','comments','views']].mean().round(3)\n",
    "post_eng['total Avg'] = post_eng[['likes','shares','comments','views']].mean(axis=1).round(3)\n",
    "post_eng"
   ]
  },
  {
   "cell_type": "code",
   "execution_count": 110,
   "metadata": {},
   "outputs": [
    {
     "data": {
      "text/plain": [
       "2274.402"
      ]
     },
     "execution_count": 110,
     "metadata": {},
     "output_type": "execute_result"
    }
   ],
   "source": [
    "post_eng['total Avg'].max()"
   ]
  },
  {
   "cell_type": "markdown",
   "metadata": {},
   "source": [
    "### ***Video*** has the highest average engagement\n",
    "\n",
    "</br>"
   ]
  },
  {
   "cell_type": "markdown",
   "metadata": {},
   "source": [
    "## 6. What was the total engagement in each quarter of the year?"
   ]
  },
  {
   "cell_type": "code",
   "execution_count": 142,
   "metadata": {},
   "outputs": [
    {
     "data": {
      "text/html": [
       "<div>\n",
       "<style scoped>\n",
       "    .dataframe tbody tr th:only-of-type {\n",
       "        vertical-align: middle;\n",
       "    }\n",
       "\n",
       "    .dataframe tbody tr th {\n",
       "        vertical-align: top;\n",
       "    }\n",
       "\n",
       "    .dataframe thead th {\n",
       "        text-align: right;\n",
       "    }\n",
       "</style>\n",
       "<table border=\"1\" class=\"dataframe\">\n",
       "  <thead>\n",
       "    <tr style=\"text-align: right;\">\n",
       "      <th></th>\n",
       "      <th>date</th>\n",
       "      <th>platform</th>\n",
       "      <th>post_type</th>\n",
       "      <th>likes</th>\n",
       "      <th>shares</th>\n",
       "      <th>comments</th>\n",
       "      <th>views</th>\n",
       "    </tr>\n",
       "  </thead>\n",
       "  <tbody>\n",
       "    <tr>\n",
       "      <th>0</th>\n",
       "      <td>2023-05-24</td>\n",
       "      <td>Twitter</td>\n",
       "      <td>image</td>\n",
       "      <td>868.0</td>\n",
       "      <td>238.0</td>\n",
       "      <td>352.0</td>\n",
       "      <td>8836.0</td>\n",
       "    </tr>\n",
       "    <tr>\n",
       "      <th>1</th>\n",
       "      <td>2023-02-23</td>\n",
       "      <td>Twitter</td>\n",
       "      <td>image</td>\n",
       "      <td>944.0</td>\n",
       "      <td>610.0</td>\n",
       "      <td>146.0</td>\n",
       "      <td>5554.0</td>\n",
       "    </tr>\n",
       "    <tr>\n",
       "      <th>2</th>\n",
       "      <td>2023-03-18</td>\n",
       "      <td>Instagram</td>\n",
       "      <td>image</td>\n",
       "      <td>1067.0</td>\n",
       "      <td>858.0</td>\n",
       "      <td>365.0</td>\n",
       "      <td>4018.0</td>\n",
       "    </tr>\n",
       "    <tr>\n",
       "      <th>3</th>\n",
       "      <td>2023-06-12</td>\n",
       "      <td>Twitter</td>\n",
       "      <td>text</td>\n",
       "      <td>780.0</td>\n",
       "      <td>427.0</td>\n",
       "      <td>100.0</td>\n",
       "      <td>6999.0</td>\n",
       "    </tr>\n",
       "    <tr>\n",
       "      <th>4</th>\n",
       "      <td>2023-02-03</td>\n",
       "      <td>Instagram</td>\n",
       "      <td>text</td>\n",
       "      <td>836.0</td>\n",
       "      <td>893.0</td>\n",
       "      <td>443.0</td>\n",
       "      <td>5802.0</td>\n",
       "    </tr>\n",
       "  </tbody>\n",
       "</table>\n",
       "</div>"
      ],
      "text/plain": [
       "         date   platform post_type   likes  shares  comments   views\n",
       "0  2023-05-24    Twitter     image   868.0   238.0     352.0  8836.0\n",
       "1  2023-02-23    Twitter     image   944.0   610.0     146.0  5554.0\n",
       "2  2023-03-18  Instagram     image  1067.0   858.0     365.0  4018.0\n",
       "3  2023-06-12    Twitter      text   780.0   427.0     100.0  6999.0\n",
       "4  2023-02-03  Instagram      text   836.0   893.0     443.0  5802.0"
      ]
     },
     "execution_count": 142,
     "metadata": {},
     "output_type": "execute_result"
    }
   ],
   "source": [
    "data.head()"
   ]
  },
  {
   "cell_type": "code",
   "execution_count": 143,
   "metadata": {},
   "outputs": [
    {
     "data": {
      "text/plain": [
       "date          object\n",
       "platform      object\n",
       "post_type     object\n",
       "likes        float64\n",
       "shares       float64\n",
       "comments     float64\n",
       "views        float64\n",
       "dtype: object"
      ]
     },
     "execution_count": 143,
     "metadata": {},
     "output_type": "execute_result"
    }
   ],
   "source": [
    "data.dtypes"
   ]
  },
  {
   "cell_type": "code",
   "execution_count": 144,
   "metadata": {},
   "outputs": [],
   "source": [
    "data['date'] = pd.to_datetime(data['date'])\n",
    "data['month'] = data['date'].dt.month"
   ]
  },
  {
   "cell_type": "code",
   "execution_count": 145,
   "metadata": {},
   "outputs": [
    {
     "data": {
      "text/html": [
       "<div>\n",
       "<style scoped>\n",
       "    .dataframe tbody tr th:only-of-type {\n",
       "        vertical-align: middle;\n",
       "    }\n",
       "\n",
       "    .dataframe tbody tr th {\n",
       "        vertical-align: top;\n",
       "    }\n",
       "\n",
       "    .dataframe thead th {\n",
       "        text-align: right;\n",
       "    }\n",
       "</style>\n",
       "<table border=\"1\" class=\"dataframe\">\n",
       "  <thead>\n",
       "    <tr style=\"text-align: right;\">\n",
       "      <th></th>\n",
       "      <th>date</th>\n",
       "      <th>platform</th>\n",
       "      <th>post_type</th>\n",
       "      <th>likes</th>\n",
       "      <th>shares</th>\n",
       "      <th>comments</th>\n",
       "      <th>views</th>\n",
       "      <th>month</th>\n",
       "    </tr>\n",
       "  </thead>\n",
       "  <tbody>\n",
       "    <tr>\n",
       "      <th>0</th>\n",
       "      <td>2023-05-24</td>\n",
       "      <td>Twitter</td>\n",
       "      <td>image</td>\n",
       "      <td>868.0</td>\n",
       "      <td>238.0</td>\n",
       "      <td>352.0</td>\n",
       "      <td>8836.0</td>\n",
       "      <td>5</td>\n",
       "    </tr>\n",
       "    <tr>\n",
       "      <th>1</th>\n",
       "      <td>2023-02-23</td>\n",
       "      <td>Twitter</td>\n",
       "      <td>image</td>\n",
       "      <td>944.0</td>\n",
       "      <td>610.0</td>\n",
       "      <td>146.0</td>\n",
       "      <td>5554.0</td>\n",
       "      <td>2</td>\n",
       "    </tr>\n",
       "    <tr>\n",
       "      <th>2</th>\n",
       "      <td>2023-03-18</td>\n",
       "      <td>Instagram</td>\n",
       "      <td>image</td>\n",
       "      <td>1067.0</td>\n",
       "      <td>858.0</td>\n",
       "      <td>365.0</td>\n",
       "      <td>4018.0</td>\n",
       "      <td>3</td>\n",
       "    </tr>\n",
       "    <tr>\n",
       "      <th>3</th>\n",
       "      <td>2023-06-12</td>\n",
       "      <td>Twitter</td>\n",
       "      <td>text</td>\n",
       "      <td>780.0</td>\n",
       "      <td>427.0</td>\n",
       "      <td>100.0</td>\n",
       "      <td>6999.0</td>\n",
       "      <td>6</td>\n",
       "    </tr>\n",
       "    <tr>\n",
       "      <th>4</th>\n",
       "      <td>2023-02-03</td>\n",
       "      <td>Instagram</td>\n",
       "      <td>text</td>\n",
       "      <td>836.0</td>\n",
       "      <td>893.0</td>\n",
       "      <td>443.0</td>\n",
       "      <td>5802.0</td>\n",
       "      <td>2</td>\n",
       "    </tr>\n",
       "  </tbody>\n",
       "</table>\n",
       "</div>"
      ],
      "text/plain": [
       "        date   platform post_type   likes  shares  comments   views  month\n",
       "0 2023-05-24    Twitter     image   868.0   238.0     352.0  8836.0      5\n",
       "1 2023-02-23    Twitter     image   944.0   610.0     146.0  5554.0      2\n",
       "2 2023-03-18  Instagram     image  1067.0   858.0     365.0  4018.0      3\n",
       "3 2023-06-12    Twitter      text   780.0   427.0     100.0  6999.0      6\n",
       "4 2023-02-03  Instagram      text   836.0   893.0     443.0  5802.0      2"
      ]
     },
     "execution_count": 145,
     "metadata": {},
     "output_type": "execute_result"
    }
   ],
   "source": [
    "data.head()"
   ]
  },
  {
   "cell_type": "code",
   "execution_count": 153,
   "metadata": {},
   "outputs": [
    {
     "data": {
      "text/plain": [
       "month\n",
       "1     1508416.0\n",
       "2     1437688.0\n",
       "3     1612702.0\n",
       "4     1326769.0\n",
       "5     1527292.0\n",
       "6     1407184.0\n",
       "7     1386949.0\n",
       "8     1357666.0\n",
       "9     1530013.0\n",
       "10    1846096.0\n",
       "11    1466508.0\n",
       "12    1625834.0\n",
       "Name: total, dtype: float64"
      ]
     },
     "execution_count": 153,
     "metadata": {},
     "output_type": "execute_result"
    }
   ],
   "source": [
    "data_by_month = data.groupby('month')[['likes', 'shares', 'comments', 'views']].sum()\n",
    "data_by_month['total'] = data_by_month[['likes', 'shares', 'comments', 'views']].sum(axis=1)\n",
    "data_by_month = data_by_month['total']\n",
    "data_by_month"
   ]
  },
  {
   "cell_type": "code",
   "execution_count": 154,
   "metadata": {},
   "outputs": [],
   "source": [
    "Q1 = (data_by_month[1]+data_by_month[2]+data_by_month[3])\n",
    "Q2 = (data_by_month[4]+data_by_month[5]+data_by_month[6])\n",
    "Q3 = (data_by_month[7]+data_by_month[8]+data_by_month[9])\n",
    "Q4 = (data_by_month[10]+data_by_month[11]+data_by_month[12])"
   ]
  },
  {
   "cell_type": "code",
   "execution_count": 155,
   "metadata": {},
   "outputs": [
    {
     "name": "stdout",
     "output_type": "stream",
     "text": [
      "Q1: 4558806.0\n",
      "Q2: 4261245.0\n",
      "Q3: 4274628.0\n",
      "Q4: 4938438.0\n"
     ]
    }
   ],
   "source": [
    "print(\"Q1:\", Q1)\n",
    "print(\"Q2:\", Q2)\n",
    "print(\"Q3:\", Q3)\n",
    "print(\"Q4:\", Q4)"
   ]
  },
  {
   "cell_type": "code",
   "execution_count": 159,
   "metadata": {},
   "outputs": [
    {
     "data": {
      "image/png": "[encoded data removed]",
      "text/plain": [
       "<Figure size 900x400 with 1 Axes>"
      ]
     },
     "metadata": {},
     "output_type": "display_data"
    }
   ],
   "source": [
    "plt.figure(figsize=(9, 4))\n",
    "plt.plot(data_by_month.index, data_by_month.values, marker='o', linestyle='--')\n",
    "plt.title('Total Revenue over the year')\n",
    "plt.xlabel('Month')\n",
    "plt.ylabel('Total Revenue')\n",
    "plt.xticks(data_by_month.index)\n",
    "plt.grid(True)\n",
    "plt.tight_layout()\n",
    "plt.show()"
   ]
  }
 ],
 "metadata": {
  "kernelspec": {
   "display_name": "Python 3",
   "language": "python",
   "name": "python3"
  },
  "language_info": {
   "codemirror_mode": {
    "name": "ipython",
    "version": 3
   },
   "file_extension": ".py",
   "mimetype": "text/x-python",
   "name": "python",
   "nbconvert_exporter": "python",
   "pygments_lexer": "ipython3",
   "version": "3.8.10"
  }
 },
 "nbformat": 4,
 "nbformat_minor": 2
}
